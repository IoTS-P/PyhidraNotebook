{
 "cells": [
  {
   "cell_type": "markdown",
   "id": "d44bd92f-23ae-4438-b5d0-7e8f3b6c6ba6",
   "metadata": {},
   "source": [
    "# Learn Pyhidra\n",
    "\n",
    "Pyhidra is a Python library that provides direct access to the Ghidra API within a native CPython interpreter using [jpype](https://jpype.readthedocs.io/en/latest). As well, Pyhidra contains some conveniences for setting up analysis on a given sample and running a Ghidra script locally. It also contains a Ghidra plugin to allow the use of CPython from the Ghidra user interface.\n",
    "\n",
    "In this script, we will learn how to use basic functions provided by pyhidra.\n",
    "Furthermore, we will discover the function related to binary analysis\n",
    "\n",
    "* **Task 1:** wirte a inherit launcher class to implement log service\n",
    "* **Task 2:** Create or open a project with given path and name \n",
    "* **Task 3:** import a program with path and name and get the flat api\n",
    "    * flat_api is a interface to export many useful functions without determine the class of it\n",
    "* **Task 4:** set the correct base address of the binary file\n",
    "* **Task 5:** create a function based on the vector table \n",
    "* **Task 6:** Save the program and close the project\n"
   ]
  },
  {
   "cell_type": "code",
   "execution_count": 12,
   "id": "c0cc26c3-5941-4501-acf6-1237e6f0c830",
   "metadata": {
    "tags": []
   },
   "outputs": [],
   "source": [
    "# remember to set the GHIDRA_INSTALL_DIR first\n",
    "! pip install pyhidra > /dev/null\n",
    "# import launcher\n",
    "from pyhidra.launcher import PyhidraLauncher, GHIDRA_INSTALL_DIR"
   ]
  },
  {
   "cell_type": "code",
   "execution_count": 3,
   "id": "97a1a01c-2933-4ac6-a200-5f05d9fd8b44",
   "metadata": {
    "tags": []
   },
   "outputs": [],
   "source": [
    "# Task 1: wirte a inherit launcher class to implement log service\n",
    "# inherit PyhidraLauncher to save the log to file \n",
    "class HeadlessLoggingPyhidraLauncher(PyhidraLauncher):\n",
    "    \"\"\"\n",
    "    Headless pyhidra launcher\n",
    "    Slightly Modified from Pyhidra to allow the Ghidra log path to be set\n",
    "    \"\"\"\n",
    "\n",
    "    def __init__(self, verbose=False, log_path=None):\n",
    "        super().__init__(verbose)\n",
    "        self.log_path = log_path\n",
    "\n",
    "    def _launch(self):\n",
    "        from pyhidra.launcher import _silence_java_output\n",
    "        from ghidra.framework import Application, HeadlessGhidraApplicationConfiguration\n",
    "        from java.io import File\n",
    "        with _silence_java_output(not self.verbose, not self.verbose):\n",
    "            config = HeadlessGhidraApplicationConfiguration()\n",
    "            if self.log_path:\n",
    "                log = File(self.log_path)\n",
    "                config.setApplicationLogFile(log)\n",
    "            Application.initializeApplication(self.layout, config)"
   ]
  },
  {
   "cell_type": "code",
   "execution_count": 4,
   "id": "debc3537-612e-4649-a1e7-cb9891698dd8",
   "metadata": {
    "tags": []
   },
   "outputs": [
    {
     "name": "stdout",
     "output_type": "stream",
     "text": [
      "INFO  Using log config file: jar:file:/data/Downloads/ghidra_11.0_PUBLIC/Ghidra/Framework/Generic/lib/Generic.jar!/generic.log4j.xml (LoggingInitialization)  \n",
      "INFO  Using log file: ./launch.log (LoggingInitialization)  \n",
      "INFO  Loading user preferences: /home/dingisoul/.ghidra/.ghidra_11.0_PUBLIC/preferences (Preferences)  \n",
      "INFO  Searching for classes... (ClassSearcher)  \n",
      "INFO  Class search complete (481 ms) (ClassSearcher)  \n",
      "INFO  Initializing SSL Context (SSLContextInitializer)  \n",
      "INFO  Initializing Random Number Generator... (SecureRandomFactory)  \n",
      "INFO  Random Number Generator initialization complete: NativePRNGNonBlocking (SecureRandomFactory)  \n",
      "INFO  Trust manager disabled, cacerts have not been set (ApplicationTrustManagerFactory)  \n"
     ]
    }
   ],
   "source": [
    "# start the Launcher \n",
    "launcher = HeadlessLoggingPyhidraLauncher(verbose=True, log_path='./launch.log')\n",
    "launcher.start()"
   ]
  },
  {
   "cell_type": "code",
   "execution_count": 5,
   "id": "eef7b382-92a8-409d-a22b-103288961501",
   "metadata": {
    "tags": []
   },
   "outputs": [
    {
     "name": "stdout",
     "output_type": "stream",
     "text": [
      "INFO  Opening project: /data/dev/FirmFlaw/ghidra_project/test_project (DefaultProject)  \n",
      "Opened project: test_project\n"
     ]
    }
   ],
   "source": [
    "# Task 2: Create or open a project with given path and name \n",
    "# Necessary imports for ghidra project \n",
    "from ghidra.base.project import GhidraProject\n",
    "from java.io import IOException\n",
    "from pathlib import Path \n",
    "\n",
    "# Create Project Dir and name \n",
    "project_location = Path('./ghidra_project')\n",
    "project_location.mkdir(exist_ok=True, parents=True)\n",
    "project_name = \"test_project\"\n",
    "\n",
    "# create or open project \n",
    "try:\n",
    "    project = GhidraProject.openProject(project_location, project_name, True)\n",
    "    print(f'Opened project: {project.project.name}')\n",
    "except IOException:\n",
    "    project = GhidraProject.createProject(project_location, project_name, False)\n",
    "    print(f'Created project: {project.project.name}')"
   ]
  },
  {
   "cell_type": "code",
   "execution_count": 6,
   "id": "8d95b347-04a3-46ec-8f04-5bf44e34d4e1",
   "metadata": {},
   "outputs": [
    {
     "name": "stdout",
     "output_type": "stream",
     "text": [
      "INFO  Using Loader: Raw Binary (AutoImporter)  \n",
      "INFO  Using Language/Compiler: ARM:LE:32:Cortex:default (AutoImporter)  \n",
      "Original Image Base: 00000000\n",
      "0x20001890\n"
     ]
    }
   ],
   "source": [
    "# Task 3: import a program with path and name and get the flat api\n",
    "program_name = \"STM32L1xxSmartGlass-V1.21-181016.bin\"\n",
    "program_path = Path(\"./\" + program_name)\n",
    "\n",
    "# helper funcs \n",
    "def _get_language(id: str) -> \"Language\":\n",
    "    from ghidra.program.util import DefaultLanguageService\n",
    "    from ghidra.program.model.lang import LanguageID, LanguageNotFoundException\n",
    "    try:\n",
    "        service: \"LanguageService\" = DefaultLanguageService.getLanguageService()\n",
    "        return service.getLanguage(LanguageID(id))\n",
    "    except LanguageNotFoundException:\n",
    "        # suppress the java exception\n",
    "        pass\n",
    "    raise ValueError(\"Invalid Language ID: \"+id)\n",
    "    \n",
    "def _get_compiler_spec(lang: \"Language\", id: str = None) -> \"CompilerSpec\":\n",
    "    if id is None:\n",
    "        return lang.getDefaultCompilerSpec()\n",
    "    from ghidra.program.model.lang import CompilerSpecID, CompilerSpecNotFoundException\n",
    "    try:\n",
    "        return lang.getCompilerSpecByID(CompilerSpecID(id))\n",
    "    except CompilerSpecNotFoundException:\n",
    "        # suppress the java exception\n",
    "        pass\n",
    "    lang_id = lang.getLanguageID()\n",
    "    raise ValueError(f\"Invalid CompilerSpecID: {id} for Language: {lang_id.toString()}\")\n",
    "    \n",
    "# import program  \n",
    "lang =  _get_language(\"ARM:LE:32:Cortex\")\n",
    "program = project.importProgram(program_path,lang , _get_compiler_spec(lang))\n",
    "\n",
    "# get the flat api \n",
    "from ghidra.program.flatapi import FlatProgramAPI\n",
    "flat_api = FlatProgramAPI(program)"
   ]
  },
  {
   "cell_type": "code",
   "execution_count": null,
   "id": "0ab3a250-5cd8-4979-bdef-77a59aeb2cee",
   "metadata": {},
   "outputs": [],
   "source": [
    "# Task 4: set the correct base address of the binary file\n",
    "# set base address\n",
    "print(f'Original Image Base: {program.getImageBase()}')\n",
    "base = program.getImageBase()\n",
    "# setImageBase (Address base, boolean commit)\n",
    "program.setImageBase(base.getNewAddress(0x8003000), True)\n",
    "# test for the result\n",
    "print(hex(flat_api.getInt(flat_api.toAddr(0x8003000))))"
   ]
  },
  {
   "cell_type": "code",
   "execution_count": 7,
   "id": "13b36acf-d6b7-43b6-962e-a2734fbffd1c",
   "metadata": {},
   "outputs": [
    {
     "name": "stdout",
     "output_type": "stream",
     "text": [
      "has func :False\n",
      "Entry Point :08003294\n"
     ]
    },
    {
     "data": {
      "text/plain": [
       "Reset_Handler"
      ]
     },
     "execution_count": 7,
     "metadata": {},
     "output_type": "execute_result"
    }
   ],
   "source": [
    "# Task 5: create a function based on the vector table \n",
    "# raw program has no function \n",
    "list_ = program.getListing()\n",
    "funcs = list_.getFunctions(False)\n",
    "print(f'has func :{funcs.hasNext()}')\n",
    "# create one function \n",
    "entry_point = flat_api.toAddr(flat_api.getInt(flat_api.toAddr(0x8003004)) - 1)\n",
    "print(f'Entry Point :{entry_point}')\n",
    "flat_api.createFunction(entry_point, 'Reset_Handler')"
   ]
  },
  {
   "cell_type": "code",
   "execution_count": 8,
   "id": "036da10b-d354-49e3-95b3-11dac98843b4",
   "metadata": {},
   "outputs": [
    {
     "name": "stdout",
     "output_type": "stream",
     "text": [
      "INFO  /STM32L1xxSmartGlass-V1.21-181016.bin: file deleted (dingisoul) (LocalFileSystem)  \n",
      "INFO  Deleted local file STM32L1xxSmartGlass-V1.21-181016.bin (GhidraFileData)  \n",
      "INFO  /udf_7f0118d9336613937455183: file deleted (LocalFileSystem)  \n"
     ]
    }
   ],
   "source": [
    "# Task 6: Save the program and close the project\n",
    "project.saveAs(program, \"/\", program.getName(), True)\n",
    "project.save(program)\n",
    "project.close()"
   ]
  },
  {
   "cell_type": "code",
   "execution_count": null,
   "id": "abeece9f-1e1a-462f-a8d5-95d0e0454aba",
   "metadata": {},
   "outputs": [],
   "source": []
  }
 ],
 "metadata": {
  "kernelspec": {
   "display_name": "Python 3 (ipykernel)",
   "language": "python",
   "name": "python3"
  },
  "language_info": {
   "codemirror_mode": {
    "name": "ipython",
    "version": 3
   },
   "file_extension": ".py",
   "mimetype": "text/x-python",
   "name": "python",
   "nbconvert_exporter": "python",
   "pygments_lexer": "ipython3",
   "version": "3.11.5"
  }
 },
 "nbformat": 4,
 "nbformat_minor": 5
}
