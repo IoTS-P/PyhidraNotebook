{
 "cells": [
  {
   "cell_type": "markdown",
   "id": "2c2d70bc-fc88-44b8-8511-6585d5befb7f",
   "metadata": {},
   "source": [
    "# Chapter 2: Similar \n",
    "\n",
    "In this chapter, we learn how to judge the similarity of two functions and make a database to store the known functions \n",
    "\n",
    "* **Task 1:** Define the key used for match \n",
    "* **Task 2:** define some sql sentences such as create table and index, insert sql \n",
    "* **Task 3:** get the attributes of every function and construct the sql row\n",
    "* **Task 4:** Create a database, index and insert the attributes with helper functions\n",
    "* **Task 5:** test the database with similar program\n",
    "    * **Task 5.1:** Define some functions to calculate the similar percentage of two functions  \n",
    "    * **Task 5.2:** Find `several` most similar functions with the input func\n",
    "    * **Task 5.3:** find the matches functions \n",
    "* **Task 6:** Save the program and close the project"
   ]
  },
  {
   "cell_type": "code",
   "execution_count": null,
   "id": "a12321bf-b279-4454-a6d1-5149fa7da585",
   "metadata": {},
   "outputs": [],
   "source": [
    "# Task 1: Define the key used for match \n",
    "\n",
    "# the lower bound for numaddress\n",
    "LOWER_BOUND_ADDR_NUM = 20\n",
    "\n",
    "def filter_func(func: 'ghidra.program.model.listing.Function') -> bool:\n",
    "    '''\n",
    "    filter the thunk function (just one inst to call other function) \n",
    "    and short functions ( smaller than 20 addresses )\n",
    "    '''\n",
    "    return not func.isThunk() and func.getBody().getNumAddresses() > LOWER_BOUND_ADDR_NUM\n",
    "\n",
    "def get_inst_key(func: 'ghidra.program.model.listing.Function') -> tuple:\n",
    "    '''\n",
    "    get the number of addresses and the mnemonic string (split by ,) of this function \n",
    "    '''\n",
    "    code_units = func.getProgram().getListing().getCodeUnits(func.getBody(), True)\n",
    "    # TODO: consider convert tuple to dict to avoid use index to access the value \n",
    "    return (int(func.body.numAddresses),\",\".join(code.getMnemonicString() for code in code_units)) \n",
    "    \n",
    "def get_struct_graph_key(func: 'ghidra.program.model.listing.Function') -> tuple:  \n",
    "    '''\n",
    "    get the structure graph related attributes in this function\n",
    "    such as blocks, edges, calls, jumps \n",
    "    '''\n",
    "    # use this not flat_api.getMonitor() to avoid passing flat_api\n",
    "    from ghidra.util.task import ConsoleTaskMonitor\n",
    "    monitor = ConsoleTaskMonitor()\n",
    "    from ghidra.program.model.block import BasicBlockModel\n",
    "    block_model = BasicBlockModel(func.getProgram(), True)\n",
    "    # all starts with 1 to prevent multiply zero \n",
    "    (num_blocks,num_edges,num_calls,num_jumps) = (1,1,1,1)\n",
    "    for block in block_model.getCodeBlocksContaining(func.getBody(), monitor):\n",
    "        num_blocks += 1\n",
    "        num_edges += block.getNumDestinations(monitor)\n",
    "        refs_ = block.getDestinations(monitor)\n",
    "        while refs_.hasNext():\n",
    "            ref_ = refs_.next()\n",
    "            flow_type_ = ref_.getFlowType()\n",
    "            if flow_type_.isCall():\n",
    "                num_calls += 1\n",
    "            elif flow_type_.isJump():\n",
    "                num_jumps += 1\n",
    "    # TODO: consider convert tuple to dict to avoid use index to access the value \n",
    "    return (num_blocks,num_edges,num_calls,num_jumps)\n",
    "\n",
    "# TODO: add more keys "
   ]
  },
  {
   "cell_type": "code",
   "execution_count": null,
   "id": "49f466cd-c4d3-4886-a6e1-5737ab30d3eb",
   "metadata": {
    "tags": []
   },
   "outputs": [],
   "source": [
    "# Task 2: define some sql sentences such as create table and index, insert sql \n",
    "import sqlite3 \n",
    "\n",
    "FUNC_KEYS  = ['name','hash','numAddresses','mnemonics','block_num','edge_num','call_num','jump_num']\n",
    "FUNC_TYPES = ['TEXT','INTEGER','INTEGER','TEXT','INTEGER','INTEGER','INTEGER','INTEGER']\n",
    "FUNC_TABLE_NAME = 'func_table'\n",
    "\n",
    "def sql_create_table(cursor: sqlite3.Cursor, keys: list, types: list, table_name: str):\n",
    "    create_sql_ = f'CREATE TABLE IF NOT EXISTS {table_name} (id INTEGER PRIMARY KEY,' + ','.join(f'{k} {t}' for k,t in zip(keys,types)) + ');'\n",
    "    print(create_sql_)\n",
    "    cursor.execute(create_sql_)\n",
    "    \n",
    "def sql_create_index(cursor: sqlite3.Cursor, table_name: str, index: list, index_name: str):\n",
    "    '''\n",
    "    create index in sql \n",
    "    '''\n",
    "    create_index_ = f'CREATE INDEX IF NOT EXISTS {index_name} on {table_name}(' + ','.join(item for item in index) + ');'\n",
    "    print(create_index_)\n",
    "    cursor.execute(create_index_)\n",
    "    \n",
    "def sql_insert(cursor : sqlite3.Cursor, keys: list, val: list, table_name: str):\n",
    "    '''\n",
    "    insert mutiple rows \n",
    "    '''\n",
    "    # TODO: add the deduplication of database \n",
    "    insert_sql_ = f'INSERT INTO {table_name} (' + ','.join(item for item in keys) + ') VALUES (' + ','.join('?' for item in keys) + ')'\n",
    "    cursor.executemany(insert_sql_, val)"
   ]
  },
  {
   "cell_type": "code",
   "execution_count": null,
   "id": "7d19ab8e-17ac-4372-8c7c-e8f1c161f746",
   "metadata": {
    "tags": []
   },
   "outputs": [],
   "source": [
    "# Reuse the function in Chapter 1\n",
    "! pip install pyhidra > /dev/null\n",
    "# import launcher\n",
    "from pyhidra.launcher import PyhidraLauncher, GHIDRA_INSTALL_DIR\n",
    "\n",
    "class HeadlessLoggingPyhidraLauncher(PyhidraLauncher):\n",
    "    \"\"\"\n",
    "    Headless pyhidra launcher\n",
    "    Slightly Modified from Pyhidra to allow the Ghidra log path to be set\n",
    "    \"\"\"\n",
    "\n",
    "    def __init__(self, verbose=False, log_path=None):\n",
    "        super().__init__(verbose)\n",
    "        self.log_path = log_path\n",
    "\n",
    "    def _launch(self):\n",
    "        from pyhidra.launcher import _silence_java_output\n",
    "        from ghidra.framework import Application, HeadlessGhidraApplicationConfiguration\n",
    "        from java.io import File\n",
    "        with _silence_java_output(not self.verbose, not self.verbose):\n",
    "            config = HeadlessGhidraApplicationConfiguration()\n",
    "            if self.log_path:\n",
    "                log = File(self.log_path)\n",
    "                config.setApplicationLogFile(log)\n",
    "            Application.initializeApplication(self.layout, config)"
   ]
  },
  {
   "cell_type": "code",
   "execution_count": null,
   "id": "49570b15-342b-4ae5-88ff-445dd32c144b",
   "metadata": {
    "tags": []
   },
   "outputs": [],
   "source": [
    "# start the Launcher \n",
    "launcher = HeadlessLoggingPyhidraLauncher(verbose=True, log_path='./launch.log')\n",
    "launcher.start()"
   ]
  },
  {
   "cell_type": "code",
   "execution_count": null,
   "id": "f092a717-5c96-41f8-a53e-93470f1e88b2",
   "metadata": {
    "tags": []
   },
   "outputs": [],
   "source": [
    "# Reuse the project create or open in chapter 1 \n",
    "# Necessary imports for ghidra project \n",
    "from ghidra.base.project import GhidraProject\n",
    "from java.io import IOException\n",
    "from pathlib import Path \n",
    "\n",
    "# Create Project Dir and name \n",
    "project_location = Path('./ghidra_project')\n",
    "project_location.mkdir(exist_ok=True, parents=True)\n",
    "project_name = \"database_project\"\n",
    "\n",
    "# create or open project \n",
    "try:\n",
    "    project = GhidraProject.openProject(project_location, project_name, True)\n",
    "    print(f'Opened project: {project.project.name}')\n",
    "except IOException:\n",
    "    project = GhidraProject.createProject(project_location, project_name, False)\n",
    "    print(f'Created project: {project.project.name}')"
   ]
  },
  {
   "cell_type": "code",
   "execution_count": null,
   "id": "784761ae-ded7-4e6d-8ca7-3dc424cd1b15",
   "metadata": {
    "tags": []
   },
   "outputs": [],
   "source": [
    "program_path = Path('./stm32x9i_ssl_client.elf')\n",
    "program = project.importProgram(program_path)\n",
    "\n",
    "# get the flat api \n",
    "from ghidra.program.flatapi import FlatProgramAPI\n",
    "flat_api = FlatProgramAPI(program)\n",
    "flat_api.analyzeAll(program)"
   ]
  },
  {
   "cell_type": "code",
   "execution_count": null,
   "id": "dbce386d-c9b2-47b0-b18c-c6a63c140a0a",
   "metadata": {
    "tags": []
   },
   "outputs": [],
   "source": [
    "# Task 3: get the attributes of every function and construct the sql row\n",
    "from functools import reduce\n",
    "from operator import mul\n",
    "\n",
    "rows_ = []\n",
    "for func_ in program.getListing().getFunctions(True):\n",
    "    if filter_func(func_):\n",
    "        row_ = (func_.getName(),)\n",
    "        inst_ = get_inst_key(func_)\n",
    "        graph = get_struct_graph_key(func_)\n",
    "        # make sure the inst_[0] means the numAddress \n",
    "        hash_ = reduce(mul,(n for n in graph),1) * inst_[0]\n",
    "        if hash_ >= 0xffffffff:\n",
    "            print(f'WARNING: {func_.getName()} hash is a little long {hash_}')\n",
    "        row_ += (hash_,) + inst_ + graph\n",
    "        rows_.append(row_)"
   ]
  },
  {
   "cell_type": "code",
   "execution_count": null,
   "id": "6977a6ae-dde7-4e34-85ce-b714064319c1",
   "metadata": {
    "tags": []
   },
   "outputs": [],
   "source": [
    "# Task 4: Create a database, index and insert the attributes with helper functions\n",
    "import os \n",
    "DATABASE = './test_db.db'\n",
    "os.remove(DATABASE)\n",
    "conn = sqlite3.connect(DATABASE)\n",
    "cursor = conn.cursor()\n",
    "\n",
    "# create table and index \n",
    "sql_create_table(cursor,FUNC_KEYS,FUNC_TYPES,FUNC_TABLE_NAME)\n",
    "sql_create_index(cursor,FUNC_TABLE_NAME,['hash'],'index_hash')\n",
    "conn.commit()\n",
    "\n",
    "# insert the rows \n",
    "sql_insert(cursor, FUNC_KEYS, rows_, FUNC_TABLE_NAME)\n",
    "conn.commit()\n",
    "\n",
    "# close the connect \n",
    "conn.close()"
   ]
  },
  {
   "cell_type": "code",
   "execution_count": null,
   "id": "1dd00b2c-b72a-48c6-a677-e4bf8da938c3",
   "metadata": {
    "tags": []
   },
   "outputs": [],
   "source": [
    "# Task 5: test the database with similar program\n",
    "from difflib import SequenceMatcher\n",
    "\n",
    "# the configurations \n",
    "TOLERANT_ = 0.1 # tolerant level: 90%\n",
    "ACCEPT_ = 0.95 # accept level: >95%\n",
    "\n",
    "# Task 5.1: Define some functions to calculate the similar percentage of two functions  \n",
    "# the percentage of different attributes \n",
    "def diff_percentage(base: tuple, param: tuple) -> float:\n",
    "    '''\n",
    "    compute the percentage of different tuple\n",
    "    base: been compared\n",
    "    param: want to compare\n",
    "    '''\n",
    "    if len(base) != len(param):\n",
    "        print(\"ERROR: different diff length\")\n",
    "        return 0\n",
    "    return sum(abs(i-j)/i for (i,j) in zip(base,param)) / len(base)\n",
    "    \n",
    "# Task 5.2: Find [several] most similar functions with the input func\n",
    "def compare_func(cursor: sqlite3.Cursor, func: 'ghidra.program.model.listing.Function') -> list:\n",
    "    '''\n",
    "    find the most match function and several candidate functions\n",
    "    by compare keys we defined and the mnemonic strings  \n",
    "    '''\n",
    "    inst_ = get_inst_key(func_)\n",
    "    graph = get_struct_graph_key(func_)\n",
    "    # make sure the inst_[0] means the numAddress \n",
    "    hash_ = reduce(mul,(n for n in graph),1) * inst_[0]\n",
    "    cursor.execute(f'SELECT * FROM {FUNC_TABLE_NAME} WHERE hash BETWEEN ? AND ? ORDER BY ABS(hash-?)', (round(hash_ * (1-TOLERANT_)), round(hash_ * (1+TOLERANT_)), hash_))\n",
    "    results = cursor.fetchall()\n",
    "    \n",
    "    # filter the remain results \n",
    "    matches = []\n",
    "    max_ = [(1,),0]\n",
    "    for result_ in results:\n",
    "        # compare the \n",
    "        same_ = 1 - diff_percentage(graph, result_[5:9])\n",
    "        if same_ < ACCEPT_:\n",
    "            continue\n",
    "        match = SequenceMatcher(lambda x: x == ',', result_[4], inst_[1], autojunk=False)\n",
    "        if match.quick_ratio() < ACCEPT_ or (ratio_ := match.ratio()) < ACCEPT_:\n",
    "            continue\n",
    "        if max_[1] < (same_ + ratio_):\n",
    "            max_[1] = (same_ + ratio_) / 2\n",
    "            max_[0] = result_\n",
    "        matches.append([result_,(same_+ratio_)/2])\n",
    "    return (max_, matches) "
   ]
  },
  {
   "cell_type": "code",
   "execution_count": null,
   "id": "00f82390-d3d1-4ff2-a9db-fc725c12295c",
   "metadata": {
    "tags": []
   },
   "outputs": [],
   "source": [
    "test_program_path = Path('./stm32x9i_freertos_mpu.elf')\n",
    "test_program = project.importProgram(test_program_path)\n",
    "\n",
    "# get the flat api \n",
    "from ghidra.program.flatapi import FlatProgramAPI\n",
    "flat_ = FlatProgramAPI(test_program)\n",
    "flat_.analyzeAll(test_program)"
   ]
  },
  {
   "cell_type": "code",
   "execution_count": null,
   "id": "2cb5b5a4-d562-4fb3-bcd1-ee4bac36de13",
   "metadata": {
    "tags": []
   },
   "outputs": [],
   "source": [
    "# Task 5.3: find the matches functions \n",
    "import time\n",
    "conn = sqlite3.connect(DATABASE)\n",
    "cursor = conn.cursor()\n",
    "start = time.time()\n",
    "for func_ in test_program.getListing().getFunctions(True):\n",
    "        if filter_func(func_):\n",
    "            (max_, matches_) = compare_func(cursor, func_)\n",
    "            if len(matches_) > 0:\n",
    "                printf(f'Match {}')\n",
    "            else:\n",
    "                print(f'No match {func_.getName()}')\n",
    "conn.close()"
   ]
  },
  {
   "cell_type": "code",
   "execution_count": null,
   "id": "15542742-afeb-48c7-a048-5f3b6c04d44c",
   "metadata": {},
   "outputs": [],
   "source": [
    "# Task 6: Save the program and close the project\n",
    "project.saveAs(program, \"/\", program.getName(), True)\n",
    "project.save(program)\n",
    "project.close()"
   ]
  },
  {
   "cell_type": "code",
   "execution_count": null,
   "id": "a9f1b9ca-c565-4274-b5cb-0a5fbc9a9330",
   "metadata": {
    "tags": []
   },
   "outputs": [],
   "source": [
    "# TODO: add human defined database to classify the rtos, library and the crypto functions\n",
    "# TOOD: add psuedo codes and decompiled c string comparison"
   ]
  },
  {
   "cell_type": "code",
   "execution_count": null,
   "id": "cbdd1f3d-22ec-42a0-9800-ecaae1604cfd",
   "metadata": {},
   "outputs": [],
   "source": []
  }
 ],
 "metadata": {
  "kernelspec": {
   "display_name": "Python 3 (ipykernel)",
   "language": "python",
   "name": "python3"
  },
  "language_info": {
   "codemirror_mode": {
    "name": "ipython",
    "version": 3
   },
   "file_extension": ".py",
   "mimetype": "text/x-python",
   "name": "python",
   "nbconvert_exporter": "python",
   "pygments_lexer": "ipython3",
   "version": "3.11.5"
  }
 },
 "nbformat": 4,
 "nbformat_minor": 5
}
